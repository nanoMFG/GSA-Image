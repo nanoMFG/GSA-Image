{
 "cells": [
  {
   "cell_type": "code",
   "execution_count": 1,
   "metadata": {
    "collapsed": true
   },
   "outputs": [],
   "source": [
    "from __future__ import division\n",
    "import numpy as np\n",
    "import scipy as sc\n",
    "import cv2, sys, time, json, copy, subprocess, os\n",
    "from skimage import transform\n",
    "from PyQt5 import QtGui, QtCore\n",
    "import pyqtgraph as pg"
   ]
  },
  {
   "cell_type": "code",
   "execution_count": 2,
   "metadata": {
    "collapsed": true
   },
   "outputs": [],
   "source": [
    "app = QtGui.QApplication([])"
   ]
  },
  {
   "cell_type": "code",
   "execution_count": 3,
   "metadata": {},
   "outputs": [
    {
     "name": "stdout",
     "output_type": "stream",
     "text": [
      "{'name': 'ugyjfukgfjyg'}\n"
     ]
    },
    {
     "data": {
      "text/plain": [
       "0"
      ]
     },
     "execution_count": 3,
     "metadata": {},
     "output_type": "execute_result"
    }
   ],
   "source": [
    "w = QtGui.QWidget()\n",
    "text = QtGui.QLineEdit()\n",
    "text.setPlaceholderText('e.g. John Doe')\n",
    "label = QtGui.QLabel('Name')\n",
    "button = QtGui.QPushButton('Submit')\n",
    "\n",
    "layout = QtGui.QGridLayout()\n",
    "layout.addWidget(label,0,0)\n",
    "layout.addWidget(text,0,1)\n",
    "layout.addWidget(button,1,0)\n",
    "\n",
    "def submit():\n",
    "    d = {}\n",
    "    d['name'] = text.text()\n",
    "    text.clear()\n",
    "    print(d)\n",
    "\n",
    "button.clicked.connect(submit)\n",
    "w.setLayout(layout)\n",
    "\n",
    "w.show()\n",
    "app.exec_()"
   ]
  },
  {
   "cell_type": "code",
   "execution_count": 4,
   "metadata": {},
   "outputs": [
    {
     "data": {
      "text/plain": [
       "0"
      ]
     },
     "execution_count": 4,
     "metadata": {},
     "output_type": "execute_result"
    }
   ],
   "source": [
    "tab1 = QtGui.QWidget()\n",
    "t1_text = QtGui.QLineEdit()\n",
    "t1_text.setPlaceholderText('e.g. John Doe')\n",
    "t1_label = QtGui.QLabel('Name')\n",
    "t1_button = QtGui.QPushButton('Submit')\n",
    "\n",
    "t1_layout = QtGui.QGridLayout()\n",
    "t1_layout.addWidget(t1_label,0,0)\n",
    "t1_layout.addWidget(t1_text,0,1)\n",
    "t1_layout.addWidget(t1_button,1,0)\n",
    "\n",
    "def submit():\n",
    "    d = {}\n",
    "    d['name'] = t1_text.text()\n",
    "    t1_text.clear()\n",
    "    print(d)\n",
    "\n",
    "t1_button.clicked.connect(submit)\n",
    "tab1.setLayout(t1_layout)\n",
    "\n",
    "tab2 = QtGui.QWidget()\n",
    "t2_layout = QtGui.QGridLayout()\n",
    "t2_boxes = {}\n",
    "for i in range(10):\n",
    "    t2_boxes[i] = QtGui.QLineEdit()\n",
    "    t2_boxes[i].setPlaceholderText('Example %d'%i)\n",
    "    t2_layout.addWidget(QtGui.QLabel('Label %d'%i),i,0)\n",
    "    t2_layout.addWidget(t2_boxes[i],i,1)\n",
    "tab2.setLayout(t2_layout)\n",
    "\n",
    "tabs = QtGui.QTabWidget()\n",
    "tabs.addTab(tab1,'Tab 1')\n",
    "tabs.addTab(tab2,'Tab 2')\n",
    "\n",
    "tabs.show()\n",
    "app.exec_()"
   ]
  },
  {
   "cell_type": "code",
   "execution_count": 5,
   "metadata": {},
   "outputs": [
    {
     "name": "stdout",
     "output_type": "stream",
     "text": [
      "fhjgh\n"
     ]
    },
    {
     "data": {
      "text/plain": [
       "'fhjgh'"
      ]
     },
     "execution_count": 5,
     "metadata": {},
     "output_type": "execute_result"
    }
   ],
   "source": [
    "input()"
   ]
  },
  {
   "cell_type": "code",
   "execution_count": null,
   "metadata": {
    "collapsed": true
   },
   "outputs": [],
   "source": []
  }
 ],
 "metadata": {
  "kernelspec": {
   "display_name": "Python 3",
   "language": "python",
   "name": "python3"
  },
  "language_info": {
   "codemirror_mode": {
    "name": "ipython",
    "version": 3
   },
   "file_extension": ".py",
   "mimetype": "text/x-python",
   "name": "python",
   "nbconvert_exporter": "python",
   "pygments_lexer": "ipython3",
   "version": "3.5.0"
  }
 },
 "nbformat": 4,
 "nbformat_minor": 2
}
